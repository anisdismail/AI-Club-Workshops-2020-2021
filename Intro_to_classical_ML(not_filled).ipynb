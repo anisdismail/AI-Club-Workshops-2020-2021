{
  "nbformat": 4,
  "nbformat_minor": 0,
  "metadata": {
    "colab": {
      "name": "Intro_to_classical_ML(not_filled).ipynb",
      "provenance": [],
      "collapsed_sections": [],
      "toc_visible": true
    },
    "kernelspec": {
      "name": "python3",
      "display_name": "Python 3"
    }
  },
  "cells": [
    {
      "cell_type": "markdown",
      "metadata": {
        "id": "qUWCsg16wE0x"
      },
      "source": [
        "#Introduction to Classical Machine Learning\r\n",
        "In this notebook, we will explore how to use and test classical Machine Learning algorithms including:\r\n",
        "- Linear Regression\r\n",
        "- K-Nearest Neighbors\r\n",
        "- Decision Trees\r\n"
      ]
    },
    {
      "cell_type": "code",
      "metadata": {
        "id": "DfU1HxHhdiPP"
      },
      "source": [
        "RANDOM_SEED=48\r\n",
        "from sklearn import datasets\r\n",
        "import pandas as pd\r\n",
        "import numpy as np\r\n",
        "import matplotlib.pyplot as plt\r\n",
        "import seaborn as sns\r\n",
        "%matplotlib inline"
      ],
      "execution_count": null,
      "outputs": []
    },
    {
      "cell_type": "markdown",
      "metadata": {
        "id": "X_d1ZZQIquqB"
      },
      "source": [
        "## Linear Regression\r\n",
        "For this exercise, we will be using Boston Housing Prices dataset. It is a simple dataset with clear and explainable features, a perfect use case to demonstrate the power of Linear Regression."
      ]
    },
    {
      "cell_type": "code",
      "metadata": {
        "id": "NgLUt4xGqseG"
      },
      "source": [
        "boston=datasets.load_boston()\r\n",
        "print(boston.____)"
      ],
      "execution_count": null,
      "outputs": []
    },
    {
      "cell_type": "code",
      "metadata": {
        "id": "4nuhvcqre3It"
      },
      "source": [
        "bs_df=pd.DataFrame(boston.data,columns=boston.feature_names)\r\n",
        "bs_df.describe()"
      ],
      "execution_count": null,
      "outputs": []
    },
    {
      "cell_type": "code",
      "metadata": {
        "id": "Bjk-28IGfjR_"
      },
      "source": [
        "pd.DataFrame(boston.target,columns=[\"target price\"]).describe()"
      ],
      "execution_count": null,
      "outputs": []
    },
    {
      "cell_type": "markdown",
      "metadata": {
        "id": "R4topMyexIk4"
      },
      "source": [
        "Before training our model, let's first split the data into train and test set:"
      ]
    },
    {
      "cell_type": "code",
      "metadata": {
        "id": "wOeiHpUsg8BV"
      },
      "source": [
        "from sklearn.model_selection import _____________\r\n",
        "boston_x_train,boston_x_test,boston_y_train,boston_y_test=_________(boston.data,boston.target,random_state=RANDOM_SEED,train_size=___)"
      ],
      "execution_count": null,
      "outputs": []
    },
    {
      "cell_type": "code",
      "metadata": {
        "id": "smfupEtggToY"
      },
      "source": [
        "from sklearn.linear_model import _________________\r\n",
        "linear_model=_____________\r\n",
        "reg=linear_model.___(boston_x_train,boston_y_train)"
      ],
      "execution_count": null,
      "outputs": []
    },
    {
      "cell_type": "markdown",
      "metadata": {
        "id": "bHyKfLkfxTXq"
      },
      "source": [
        "As discussed in the presentation, our performance metric for this regression model will be the **Root Mean Square Error (RMSE)**. "
      ]
    },
    {
      "cell_type": "code",
      "metadata": {
        "id": "z9dqJVz3iUZz"
      },
      "source": [
        "from sklearn.metrics import ___________\r\n",
        "y_train_pred=reg.predict(boston_x_train)\r\n",
        "np.sqrt(___________(boston_y_train,y_train_pred))"
      ],
      "execution_count": null,
      "outputs": []
    },
    {
      "cell_type": "code",
      "metadata": {
        "id": "GyZolkhpjMve"
      },
      "source": [
        "y_test_pred=reg.predict(boston_x_test)\r\n",
        "np.sqrt(_________________(boston_y_test,y_test_pred))"
      ],
      "execution_count": null,
      "outputs": []
    },
    {
      "cell_type": "markdown",
      "metadata": {
        "id": "t6mpobAZxiQ9"
      },
      "source": [
        "Let's try to go deeper and understand the weights that the model is assigning to each feature:"
      ]
    },
    {
      "cell_type": "code",
      "metadata": {
        "id": "yhKOhXqxlk1x"
      },
      "source": [
        "import collections\r\n",
        "features_importance=pd.Series(dict([(boston.feature_names[i],reg.coef_[i]) for i in range(len(boston.feature_names))]))"
      ],
      "execution_count": null,
      "outputs": []
    },
    {
      "cell_type": "code",
      "metadata": {
        "id": "mmiYgv3VguXK"
      },
      "source": [
        "plt._____(features_importance.sort_values().index,features_importance.sort_values().values)"
      ],
      "execution_count": null,
      "outputs": []
    },
    {
      "cell_type": "markdown",
      "metadata": {
        "id": "zJoIYstKq-e8"
      },
      "source": [
        "## K-Nearest Neighbors\r\n"
      ]
    },
    {
      "cell_type": "markdown",
      "metadata": {
        "id": "i-ROk9Eu7NWc"
      },
      "source": [
        "### Iris Dataset Classification Task"
      ]
    },
    {
      "cell_type": "markdown",
      "metadata": {
        "id": "M4M0COUix02W"
      },
      "source": [
        "For our K-NN example, we will be using two simple datasets: the IRIS dataset and the BMI dataset. \r\n",
        "<hr>\r\n",
        "Let's start with the IRIS dataset, a simple flower classification dataset based on the sepal and petal measurements. It is a perfect use case for K-NN because it is not highly dimensional and is easy to visualize. "
      ]
    },
    {
      "cell_type": "code",
      "metadata": {
        "id": "H1Ja_tU2q9AP"
      },
      "source": [
        "iris=datasets.load_iris()\n",
        "print(iris.DESCR)"
      ],
      "execution_count": null,
      "outputs": []
    },
    {
      "cell_type": "code",
      "metadata": {
        "id": "jQrqkjdMtNtP"
      },
      "source": [
        "iris_x_train,iris_x_test,iris_y_train,iris_y_test=train_test_split(iris.data,iris.target,random_state=RANDOM_SEED,train_size=0.8)\r\n",
        "iris_df=pd.DataFrame(iris_x_train,columns=iris.feature_names)\r\n",
        "iris_df[\"species\"]=iris_y_train\r\n",
        "iris_df._______"
      ],
      "execution_count": null,
      "outputs": []
    },
    {
      "cell_type": "markdown",
      "metadata": {
        "id": "FncAWxNIyw0m"
      },
      "source": [
        "Let's first try to visualize the features inside this dataset. We will use the Andrew curves plot for this application. Andrew Curves code the data into Fourier Series coefficients and transform each data instance into a sinusoidal graph."
      ]
    },
    {
      "cell_type": "code",
      "metadata": {
        "id": "R6RVPqkEsCjL"
      },
      "source": [
        "from pandas.plotting import ___________\r\n",
        "plt.figure(figsize=(8,5))\r\n",
        "______________(iris_df, \"species\")\r\n",
        "plt.title('Andrews Curves Plot')\r\n",
        "plt.legend(loc=1, prop={'size': 15}, frameon=True,shadow=True, facecolor=\"white\", edgecolor=\"black\")\r\n",
        "plt.show()"
      ],
      "execution_count": null,
      "outputs": []
    },
    {
      "cell_type": "markdown",
      "metadata": {
        "id": "4IVPhDSDzlbk"
      },
      "source": [
        "It looks like the data instances are pretty separated, which is a good sign and will make the job easier on KNN."
      ]
    },
    {
      "cell_type": "markdown",
      "metadata": {
        "id": "fwnhz5qbz3g3"
      },
      "source": [
        "Let's try next to plot the features and understand their distribution."
      ]
    },
    {
      "cell_type": "code",
      "metadata": {
        "id": "WI2wqLP8u1NJ"
      },
      "source": [
        "scatter=plt._____(iris_df[\"sepal length (cm)\"],iris_df[\"sepal width (cm)\"],c=iris_df[\"species\"])\r\n",
        "plt.legend(handles=scatter.legend_elements()[0],labels=(\"Iris-Setosa\",\"Iris-Versicolour\",\"Iris-Virginica\"))\r\n",
        "plt.show()"
      ],
      "execution_count": null,
      "outputs": []
    },
    {
      "cell_type": "code",
      "metadata": {
        "id": "3FmLQHaH0xOJ"
      },
      "source": [
        "scatter=plt._______(iris_df[\"petal length (cm)\"],iris_df[\"petal width (cm)\"],c=iris_df[\"species\"],)\r\n",
        "plt.legend(handles=scatter.legend_elements()[0],labels=(\"Iris-Setosa\",\"Iris-Versicolour\",\"Iris-Virginica\"))\r\n",
        "plt.show()"
      ],
      "execution_count": null,
      "outputs": []
    },
    {
      "cell_type": "markdown",
      "metadata": {
        "id": "OKpG5avG0ESG"
      },
      "source": [
        "Now that we took a look on the data and undertsood a bit its structure, we can proceed into training our KNN model."
      ]
    },
    {
      "cell_type": "code",
      "metadata": {
        "id": "UvToU0ezxpVF"
      },
      "source": [
        "from sklearn.neighbors import ________________\r\n",
        "knn=________________(n_neighbors=_)\r\n",
        "knn_model=knn.____(iris_x_train,iris_y_train)"
      ],
      "execution_count": null,
      "outputs": []
    },
    {
      "cell_type": "code",
      "metadata": {
        "id": "8iKZk5isyXx5"
      },
      "source": [
        "from sklearn.metrics import __________\r\n",
        "pred_iris=knn_model.predict(iris_x_train)\r\n",
        "___________(iris_y_train,pred_iris)"
      ],
      "execution_count": null,
      "outputs": []
    },
    {
      "cell_type": "code",
      "metadata": {
        "id": "POslS-B4yqyF"
      },
      "source": [
        "pred_iris=knn_model.predict(iris_x_test)\r\n",
        "____________(iris_y_test,pred_iris)"
      ],
      "execution_count": null,
      "outputs": []
    },
    {
      "cell_type": "markdown",
      "metadata": {
        "id": "YW5WiUR80QPN"
      },
      "source": [
        "Another important step we need to investigate is the effect of the number of neighbors on our model performance:"
      ]
    },
    {
      "cell_type": "code",
      "metadata": {
        "colab": {
          "base_uri": "https://localhost:8080/",
          "height": 310
        },
        "id": "c8pWP8Txy3ZD",
        "outputId": "9d1ea12b-a1ca-4c22-f6e5-91e97f95ae67"
      },
      "source": [
        "from sklearn.model_selection import _________\r\n",
        "neighbors_nb=np.arange(1,51)\r\n",
        "acc=[]\r\n",
        "\r\n",
        "for k in neighbors_nb:\r\n",
        "  knn=_________________(n_neighbors=_)\r\n",
        "  scores = ____________(knn, iris_x_train, iris_y_train, cv=10, scoring='accuracy')\r\n",
        "  acc.append(scores.mean())\r\n",
        "\r\n",
        "plt.plot(neighbors_nb,acc)\r\n",
        "plt.xticks(np.arange(0,51,5))\r\n",
        "plt.xlabel(\"Number of Neighbors (K)\")\r\n",
        "plt.ylabel(\"Accuracy\")\r\n",
        "plt.title(\"Investigating the Effect of Number of Neighbors \\n on Model Accuracy\")\r\n",
        "plt.show()"
      ],
      "execution_count": null,
      "outputs": [
        {
          "output_type": "display_data",
          "data": {
            "image/png": "[encoded data removed]",
            "text/plain": [
              "<Figure size 432x288 with 1 Axes>"
            ]
          },
          "metadata": {
            "tags": [],
            "needs_background": "light"
          }
        }
      ]
    },
    {
      "cell_type": "markdown",
      "metadata": {
        "id": "BkK30coJUaUe"
      },
      "source": [
        "### BMI Dataset Regression Task"
      ]
    },
    {
      "cell_type": "markdown",
      "metadata": {
        "id": "8IfwBAC51PsI"
      },
      "source": [
        "Next, we investigate the BMI dataset, in which we try to predict the BMI index of 500 individuals based on their height and weight."
      ]
    },
    {
      "cell_type": "code",
      "metadata": {
        "id": "fBEsAluY6Z8z"
      },
      "source": [
        "!wget https://github.com/anisdismail/AI-Club-Workshops-2020-2021/blob/main/datasets/500_Person_Gender_Height_Weight_Index.csv"
      ],
      "execution_count": null,
      "outputs": []
    },
    {
      "cell_type": "code",
      "metadata": {
        "id": "4xftyUyy15kj"
      },
      "source": [
        "import pandas as pd\r\n",
        "bmi=pd.read_csv(\"/content/500_Person_Gender_Height_Weight_Index.csv\")\r\n",
        "bmi.head(5)"
      ],
      "execution_count": null,
      "outputs": []
    },
    {
      "cell_type": "code",
      "metadata": {
        "id": "i4mEWGJQWI7c"
      },
      "source": [
        "bmi.describe()"
      ],
      "execution_count": null,
      "outputs": []
    },
    {
      "cell_type": "markdown",
      "metadata": {
        "id": "3jFtohSx1jvY"
      },
      "source": [
        "Next let's go a bit deeper to better understand the BMI distribution and its relationship with other features:"
      ]
    },
    {
      "cell_type": "code",
      "metadata": {
        "id": "ORYSvBgLPImF"
      },
      "source": [
        "import matplotlib.pyplot as plt\r\n",
        "plt.figure(figsize=(10,6))\r\n",
        "scatter=plt.scatter(_______,__________,c=_________)\r\n",
        "plt.xlabel(\"Weight\")\r\n",
        "plt.ylabel(\"Height\")\r\n",
        "plt.title(\"Height vs Weight BMI Distribution\")\r\n",
        "plt.colorbar(scatter,label=\"BMI\")\r\n",
        "plt.show()"
      ],
      "execution_count": null,
      "outputs": []
    },
    {
      "cell_type": "code",
      "metadata": {
        "id": "n0r_-YaCUkEq"
      },
      "source": [
        "from sklearn.neighbors import ___________________\r\n",
        "knn=_____________(n_neighbors=5)\r\n",
        "scores=cross_val_score(knn, bmi.drop([\"Index\",\"Gender\"],axis=1), bmi[\"Index\"], cv=10, scoring=________)\r\n",
        "np.sqrt(-scores.mean())"
      ],
      "execution_count": null,
      "outputs": []
    },
    {
      "cell_type": "markdown",
      "metadata": {
        "id": "pT-P7s1YWYjN"
      },
      "source": [
        "## Decision Trees"
      ]
    },
    {
      "cell_type": "markdown",
      "metadata": {
        "id": "xvlo1qBT2N2i"
      },
      "source": [
        "For the Decision Trees example, we will be using another famous example: the Wine Type classification dataset. This dataset will showcase the power of decision trees and how easy is to explain its results."
      ]
    },
    {
      "cell_type": "markdown",
      "metadata": {
        "id": "Y3HtoY-D2qNm"
      },
      "source": [
        "To simplify the tree built eventually, we selected the most correlated features with the target value, and we will be using them as our training dataset."
      ]
    },
    {
      "cell_type": "code",
      "metadata": {
        "id": "2v46J0sFWbGl"
      },
      "source": [
        "wine=datasets.load_wine()\r\n",
        "db_x_train,db_x_test,db_y_train,db_y_test=train_test_split(wine.data[:,[0,1,5,6,10]],wine.target,random_state=RANDOM_SEED,train_size=0.8)\r\n",
        "db_df=pd.DataFrame(db_x_train,columns=np.array(wine.feature_names)[[0,1,5,6,10]])\r\n",
        "db_df[\"type\"]=db_y_train\r\n",
        "db_df._________"
      ],
      "execution_count": null,
      "outputs": []
    },
    {
      "cell_type": "code",
      "metadata": {
        "id": "mR24uV5kbPWs"
      },
      "source": [
        "import seaborn as sns\r\n",
        "db_df.corr()[\"type\"]"
      ],
      "execution_count": null,
      "outputs": []
    },
    {
      "cell_type": "markdown",
      "metadata": {
        "id": "esdwpQZ83zet"
      },
      "source": [
        "Let's built the decision tree classifier, and we will be limiting the max depth of the tree to simplify the tree visualization later on."
      ]
    },
    {
      "cell_type": "code",
      "metadata": {
        "id": "EXNMuvQTYFUu"
      },
      "source": [
        "from sklearn.tree import _______________\r\n",
        "tree=______________(max_depth=3)\r\n",
        "tree_clss=tree.___(db_x_train,db_y_train)"
      ],
      "execution_count": null,
      "outputs": []
    },
    {
      "cell_type": "code",
      "metadata": {
        "colab": {
          "base_uri": "https://localhost:8080/"
        },
        "id": "S6VliZhUaKI7",
        "outputId": "edfa97b2-9de6-4008-ba04-a0d424e226cd"
      },
      "source": [
        "accuracy_score(db_y_train,tree_clss.predict(db_x_train))"
      ],
      "execution_count": null,
      "outputs": [
        {
          "output_type": "execute_result",
          "data": {
            "text/plain": [
              "0.971830985915493"
            ]
          },
          "metadata": {
            "tags": []
          },
          "execution_count": 140
        }
      ]
    },
    {
      "cell_type": "code",
      "metadata": {
        "colab": {
          "base_uri": "https://localhost:8080/"
        },
        "id": "L1nxqz5thErR",
        "outputId": "bc4b0cea-fdfd-4fc9-d4b9-617392dd72f6"
      },
      "source": [
        "accuracy_score(db_y_test,tree_clss.predict(db_x_test))"
      ],
      "execution_count": null,
      "outputs": [
        {
          "output_type": "execute_result",
          "data": {
            "text/plain": [
              "0.9444444444444444"
            ]
          },
          "metadata": {
            "tags": []
          },
          "execution_count": 143
        }
      ]
    },
    {
      "cell_type": "markdown",
      "metadata": {
        "id": "RTdFyXeF4Nji"
      },
      "source": [
        "Now let's export the tree model and visualize it:"
      ]
    },
    {
      "cell_type": "code",
      "metadata": {
        "id": "0AC7nBq-XNl0"
      },
      "source": [
        "from sklearn.tree import export_graphviz\r\n",
        "export_graphviz(\r\n",
        " tree_clss,\r\n",
        " out_file=\"db_tree.dot\",\r\n",
        " feature_names=np.array(wine.feature_names)[[0,1,5,6,10]],\r\n",
        " class_names=wine.target_names,\r\n",
        " rounded=True,\r\n",
        " filled=True\r\n",
        " )"
      ],
      "execution_count": null,
      "outputs": []
    },
    {
      "cell_type": "code",
      "metadata": {
        "id": "UbcPa_OpY-RA"
      },
      "source": [
        "!dot -Tpng db_tree.dot -o db_tree.png"
      ],
      "execution_count": null,
      "outputs": []
    },
    {
      "cell_type": "code",
      "metadata": {
        "id": "-Yx5j_lwZGbm"
      },
      "source": [
        "from PIL import Image\r\n",
        "image=Image.open(\"/content/db_tree.png\")\r\n",
        "plt.figure(figsize=(20,12))\r\n",
        "plt.imshow(image)\r\n",
        "plt.axis('off')\r\n",
        "plt.show()"
      ],
      "execution_count": null,
      "outputs": []
    },
    {
      "cell_type": "markdown",
      "metadata": {
        "id": "-uTm3eXb4WAz"
      },
      "source": [
        "As simple as this, this showcase how explainable and transparent are the decisions made by such model. This makes Decision Trees a white-box model, in comparison to Black-box models like Neural Networks."
      ]
    },
    {
      "cell_type": "markdown",
      "metadata": {
        "id": "cqh_tnwT4zm8"
      },
      "source": [
        "## Further Steps\r\n",
        "This is the end of our workshop today! If you are curious to learn more and dive deeper into this notebook, here are some extra steps:\r\n",
        "- Performing hyperparameters tuning for the models used\r\n",
        "- Investigating the performance of the trained models using clearer metrics (like precision/recall vs accuracy)\r\n",
        "- Adding the deleted features back and investigating whether their addition improves the models or not.\r\n"
      ]
    }
  ]
}