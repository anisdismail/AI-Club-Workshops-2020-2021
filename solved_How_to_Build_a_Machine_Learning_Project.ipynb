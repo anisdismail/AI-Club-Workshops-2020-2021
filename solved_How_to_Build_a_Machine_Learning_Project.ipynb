{
  "nbformat": 4,
  "nbformat_minor": 0,
  "metadata": {
    "colab": {
      "name": "solved_How to Build a Machine Learning Project",
      "provenance": [],
      "collapsed_sections": [],
      "toc_visible": true
    },
    "kernelspec": {
      "name": "python3",
      "display_name": "Python 3"
    }
  },
  "cells": [
    {
      "cell_type": "markdown",
      "metadata": {
        "id": "MHjeANu5Gn7f"
      },
      "source": [
        "# How to Build a Machine Learning Project\n",
        "Welcome to our first hands-on workshop! We will learn together how to build a Machine Learning Project from scratch. After this workshop, you will be able to:\n",
        "- Understand the purpose of applying Machine Learning to a specific dataset\n",
        "- **Frame the problem** as a **Classification** or **Regression** task\n",
        "- **Manipulate features** of the data in order to better understand them\n",
        "- Perform **Exploratory Data Analysis (EDA)** and extract meaningful insights\n",
        "- **Preprocess data** to be used in Machine Learning algorithms\n",
        "- Choose the **best algorithm** that maximizes a performance metric of choice\n",
        "- Choose the **best hyperparameters** that maximize model performance\n",
        "- **Evaluate** the **performance** of the model on **test data**\n",
        "<hr>\n"
      ]
    },
    {
      "cell_type": "markdown",
      "metadata": {
        "id": "vqa1t16GcE6x"
      },
      "source": [
        "![Bilbo on a journey](https://media.giphy.com/media/oj2GhTqAIoNIk/giphy.gif)"
      ]
    },
    {
      "cell_type": "markdown",
      "metadata": {
        "id": "9KyX502yaUak"
      },
      "source": [
        "First, let's import the libraries that we will need for this project: <br>\n",
        "- [Numpy](https://numpy.org/doc/) - for matrices and vectors manipulation and operations \n",
        "- [Pandas](https://pandas.pydata.org/docs/getting_started/overview.html) - for data cleaning and analysis\n",
        "- [Scikit-Learn](https://scikit-learn.org/stable/) - for building predictive models\n",
        "- [Matplotlib](https://matplotlib.org/) and [Seaborn](https://seaborn.pydata.org/) - for visualizing various types of plots\n"
      ]
    },
    {
      "cell_type": "code",
      "metadata": {
        "id": "uoRXCb2-hdUc"
      },
      "source": [
        "import numpy as np\n",
        "import pandas as pd\n",
        "import matplotlib.pyplot as plt\n",
        "import seaborn as sns\n",
        "RANDOM_SEED=42\n",
        "np.random.seed(RANDOM_SEED)\n",
        "pd.options.mode.chained_assignment = None  # default='warn'"
      ],
      "execution_count": null,
      "outputs": []
    },
    {
      "cell_type": "markdown",
      "metadata": {
        "id": "j_dl2-TJNIJn"
      },
      "source": [
        "## **0. Understand the Problem**\n",
        "The very first step is **understand the given problem** and **identify the objective** of the task. By finding the purpose of the task, we can make sure whether the problem can be framed as a Machine Learning Problem or not.<br>\n",
        "\n",
        "---\n",
        "\n",
        "For the sake of this workshop, the objective of the task is already defined:<br>\n",
        "###\"Given various socio-economic features, build a model to predict housing prices in California using the California census data..\"<br>\n",
        "---"
      ]
    },
    {
      "cell_type": "markdown",
      "metadata": {
        "id": "PeNKZ_XiMxCw"
      },
      "source": [
        "## **1. Get the Data**\n",
        "The first step is to download the dataset and load it into Colab runtime. We will use the California census dataset published on [Statslib]():\n",
        "\n"
      ]
    },
    {
      "cell_type": "code",
      "metadata": {
        "id": "j2prC3EWckNh"
      },
      "source": [
        "import os\n",
        "import tarfile\n",
        "from six.moves import urllib\n",
        "DOWNLOAD_ROOT = \"https://raw.githubusercontent.com/ageron/handson-ml2/master/\"\n",
        "HOUSING_PATH = os.path.join(\"datasets\", \"housing\")\n",
        "HOUSING_URL = DOWNLOAD_ROOT + \"datasets/housing/housing.tgz\"\n",
        "\n",
        "def fetch_housing_data(housing_url=HOUSING_URL, housing_path=HOUSING_PATH):\n",
        " if not os.path.isdir(housing_path):\n",
        "    os.makedirs(housing_path)\n",
        " tgz_path = os.path.join(housing_path, \"housing.tgz\")\n",
        " urllib.request.urlretrieve(housing_url, tgz_path)\n",
        " housing_tgz = tarfile.open(tgz_path)\n",
        " housing_tgz.extractall(path=housing_path)\n",
        " housing_tgz.close()\n",
        "\n",
        "fetch_housing_data()"
      ],
      "execution_count": null,
      "outputs": []
    },
    {
      "cell_type": "markdown",
      "metadata": {
        "id": "eeq-kDAGeSl5"
      },
      "source": [
        "Let's read the dataset into a Dataframe, a special data structure used in Pandas with various helpful functions for data analysis."
      ]
    },
    {
      "cell_type": "code",
      "metadata": {
        "id": "A1sJKgny7DCS"
      },
      "source": [
        "data_path=os.path.join(HOUSING_PATH,'housing.csv')\n",
        "df=pd.read_csv(data_path)"
      ],
      "execution_count": null,
      "outputs": []
    },
    {
      "cell_type": "markdown",
      "metadata": {
        "id": "rsv_qSH8hbBv"
      },
      "source": [
        "Let's check the dimensions of the dataframe:"
      ]
    },
    {
      "cell_type": "code",
      "metadata": {
        "id": "MwlenkP2hu_e",
        "outputId": "e5ef3acd-e178-47ac-fc56-f1e9762ec776",
        "colab": {
          "base_uri": "https://localhost:8080/",
          "height": 52
        }
      },
      "source": [
        "nb_of_data_samples,nb_of_features=df.shape\n",
        "print(\"Number of samples:\",nb_of_data_samples,\"\\nNumber of features:\",nb_of_features)"
      ],
      "execution_count": null,
      "outputs": [
        {
          "output_type": "stream",
          "text": [
            "Number of samples: 20640 \n",
            "Number of features: 10\n"
          ],
          "name": "stdout"
        }
      ]
    },
    {
      "cell_type": "markdown",
      "metadata": {
        "id": "nQOeYHH_vjfr"
      },
      "source": [
        "Let us take a look on the data:"
      ]
    },
    {
      "cell_type": "code",
      "metadata": {
        "id": "5r2Y9WKDve_r",
        "outputId": "c38dff52-6464-40ee-d414-893d5962f893",
        "colab": {
          "base_uri": "https://localhost:8080/",
          "height": 195
        }
      },
      "source": [
        "df.head()"
      ],
      "execution_count": null,
      "outputs": [
        {
          "output_type": "execute_result",
          "data": {
            "text/html": [
              "<div>\n",
              "<style scoped>\n",
              "    .dataframe tbody tr th:only-of-type {\n",
              "        vertical-align: middle;\n",
              "    }\n",
              "\n",
              "    .dataframe tbody tr th {\n",
              "        vertical-align: top;\n",
              "    }\n",
              "\n",
              "    .dataframe thead th {\n",
              "        text-align: right;\n",
              "    }\n",
              "</style>\n",
              "<table border=\"1\" class=\"dataframe\">\n",
              "  <thead>\n",
              "    <tr style=\"text-align: right;\">\n",
              "      <th></th>\n",
              "      <th>longitude</th>\n",
              "      <th>latitude</th>\n",
              "      <th>housing_median_age</th>\n",
              "      <th>total_rooms</th>\n",
              "      <th>total_bedrooms</th>\n",
              "      <th>population</th>\n",
              "      <th>households</th>\n",
              "      <th>median_income</th>\n",
              "      <th>median_house_value</th>\n",
              "      <th>ocean_proximity</th>\n",
              "    </tr>\n",
              "  </thead>\n",
              "  <tbody>\n",
              "    <tr>\n",
              "      <th>0</th>\n",
              "      <td>-122.23</td>\n",
              "      <td>37.88</td>\n",
              "      <td>41.0</td>\n",
              "      <td>880.0</td>\n",
              "      <td>129.0</td>\n",
              "      <td>322.0</td>\n",
              "      <td>126.0</td>\n",
              "      <td>8.3252</td>\n",
              "      <td>452600.0</td>\n",
              "      <td>NEAR BAY</td>\n",
              "    </tr>\n",
              "    <tr>\n",
              "      <th>1</th>\n",
              "      <td>-122.22</td>\n",
              "      <td>37.86</td>\n",
              "      <td>21.0</td>\n",
              "      <td>7099.0</td>\n",
              "      <td>1106.0</td>\n",
              "      <td>2401.0</td>\n",
              "      <td>1138.0</td>\n",
              "      <td>8.3014</td>\n",
              "      <td>358500.0</td>\n",
              "      <td>NEAR BAY</td>\n",
              "    </tr>\n",
              "    <tr>\n",
              "      <th>2</th>\n",
              "      <td>-122.24</td>\n",
              "      <td>37.85</td>\n",
              "      <td>52.0</td>\n",
              "      <td>1467.0</td>\n",
              "      <td>190.0</td>\n",
              "      <td>496.0</td>\n",
              "      <td>177.0</td>\n",
              "      <td>7.2574</td>\n",
              "      <td>352100.0</td>\n",
              "      <td>NEAR BAY</td>\n",
              "    </tr>\n",
              "    <tr>\n",
              "      <th>3</th>\n",
              "      <td>-122.25</td>\n",
              "      <td>37.85</td>\n",
              "      <td>52.0</td>\n",
              "      <td>1274.0</td>\n",
              "      <td>235.0</td>\n",
              "      <td>558.0</td>\n",
              "      <td>219.0</td>\n",
              "      <td>5.6431</td>\n",
              "      <td>341300.0</td>\n",
              "      <td>NEAR BAY</td>\n",
              "    </tr>\n",
              "    <tr>\n",
              "      <th>4</th>\n",
              "      <td>-122.25</td>\n",
              "      <td>37.85</td>\n",
              "      <td>52.0</td>\n",
              "      <td>1627.0</td>\n",
              "      <td>280.0</td>\n",
              "      <td>565.0</td>\n",
              "      <td>259.0</td>\n",
              "      <td>3.8462</td>\n",
              "      <td>342200.0</td>\n",
              "      <td>NEAR BAY</td>\n",
              "    </tr>\n",
              "  </tbody>\n",
              "</table>\n",
              "</div>"
            ],
            "text/plain": [
              "   longitude  latitude  ...  median_house_value  ocean_proximity\n",
              "0    -122.23     37.88  ...            452600.0         NEAR BAY\n",
              "1    -122.22     37.86  ...            358500.0         NEAR BAY\n",
              "2    -122.24     37.85  ...            352100.0         NEAR BAY\n",
              "3    -122.25     37.85  ...            341300.0         NEAR BAY\n",
              "4    -122.25     37.85  ...            342200.0         NEAR BAY\n",
              "\n",
              "[5 rows x 10 columns]"
            ]
          },
          "metadata": {
            "tags": []
          },
          "execution_count": 5
        }
      ]
    },
    {
      "cell_type": "markdown",
      "metadata": {
        "id": "IBCV7rl-v31B"
      },
      "source": [
        "Each row represents one district and there are 10 attributes: \n",
        "- longitude \n",
        "- latitude\n",
        "- housing_median_age\n",
        "- total_rooms\n",
        "- total_bedrooms\n",
        "- population\n",
        "-households\n",
        "- median_income\n",
        "- ocean_proximity\n",
        "-**median_house_value (target feature)**<br><br>\n",
        "Since we want to predict the **median house value** feature, which is a **continuous variable**, we can frame the problem as a **regression problem**."
      ]
    },
    {
      "cell_type": "markdown",
      "metadata": {
        "id": "yVWhRl2gmWVP"
      },
      "source": [
        "Next, let's check some useful informations about the features count and data types:"
      ]
    },
    {
      "cell_type": "code",
      "metadata": {
        "id": "SeXpCES_mg99",
        "outputId": "1ea0e1bf-58f6-414e-d288-ff883165b17a",
        "colab": {
          "base_uri": "https://localhost:8080/",
          "height": 316
        }
      },
      "source": [
        "df.info()"
      ],
      "execution_count": null,
      "outputs": [
        {
          "output_type": "stream",
          "text": [
            "<class 'pandas.core.frame.DataFrame'>\n",
            "RangeIndex: 20640 entries, 0 to 20639\n",
            "Data columns (total 10 columns):\n",
            " #   Column              Non-Null Count  Dtype  \n",
            "---  ------              --------------  -----  \n",
            " 0   longitude           20640 non-null  float64\n",
            " 1   latitude            20640 non-null  float64\n",
            " 2   housing_median_age  20640 non-null  float64\n",
            " 3   total_rooms         20640 non-null  float64\n",
            " 4   total_bedrooms      20433 non-null  float64\n",
            " 5   population          20640 non-null  float64\n",
            " 6   households          20640 non-null  float64\n",
            " 7   median_income       20640 non-null  float64\n",
            " 8   median_house_value  20640 non-null  float64\n",
            " 9   ocean_proximity     20640 non-null  object \n",
            "dtypes: float64(9), object(1)\n",
            "memory usage: 1.6+ MB\n"
          ],
          "name": "stdout"
        }
      ]
    },
    {
      "cell_type": "markdown",
      "metadata": {
        "id": "ATkfQHRhl7fU"
      },
      "source": [
        "We notice that:\n",
        "- There are two different data types: **float64** and **Object** data types (String data type in this case)\n",
        "- total_bedrooms features has some missing values that we need to do something about later on"
      ]
    },
    {
      "cell_type": "markdown",
      "metadata": {
        "id": "11-m-DAFkbPx"
      },
      "source": [
        "A very important step before examining the data is to split the data into **train and test data** to avoid **data snooping**."
      ]
    },
    {
      "cell_type": "code",
      "metadata": {
        "id": "wzdaaXUhl-a0"
      },
      "source": [
        "from sklearn.model_selection import train_test_split\n",
        "train_df, test_df=train_test_split(df,test_size=0.2,random_state=RANDOM_SEED)"
      ],
      "execution_count": null,
      "outputs": []
    },
    {
      "cell_type": "markdown",
      "metadata": {
        "id": "GlSmG4YAbuF_"
      },
      "source": [
        "## **2. Explore the Data** \n",
        "Next, let's try to go deeper in understanding the features of the dataset:<br>\n",
        "First, let's start by getting some useful statistics about the features:"
      ]
    },
    {
      "cell_type": "code",
      "metadata": {
        "id": "2rRlw9iucD2S",
        "outputId": "bea188cf-5b1a-47c4-bbf8-8c408c5f1fa3",
        "colab": {
          "base_uri": "https://localhost:8080/",
          "height": 284
        }
      },
      "source": [
        "train_df.describe()"
      ],
      "execution_count": null,
      "outputs": [
        {
          "output_type": "execute_result",
          "data": {
            "text/html": [
              "<div>\n",
              "<style scoped>\n",
              "    .dataframe tbody tr th:only-of-type {\n",
              "        vertical-align: middle;\n",
              "    }\n",
              "\n",
              "    .dataframe tbody tr th {\n",
              "        vertical-align: top;\n",
              "    }\n",
              "\n",
              "    .dataframe thead th {\n",
              "        text-align: right;\n",
              "    }\n",
              "</style>\n",
              "<table border=\"1\" class=\"dataframe\">\n",
              "  <thead>\n",
              "    <tr style=\"text-align: right;\">\n",
              "      <th></th>\n",
              "      <th>longitude</th>\n",
              "      <th>latitude</th>\n",
              "      <th>housing_median_age</th>\n",
              "      <th>total_rooms</th>\n",
              "      <th>total_bedrooms</th>\n",
              "      <th>population</th>\n",
              "      <th>households</th>\n",
              "      <th>median_income</th>\n",
              "      <th>median_house_value</th>\n",
              "    </tr>\n",
              "  </thead>\n",
              "  <tbody>\n",
              "    <tr>\n",
              "      <th>count</th>\n",
              "      <td>16512.000000</td>\n",
              "      <td>16512.000000</td>\n",
              "      <td>16512.000000</td>\n",
              "      <td>16512.000000</td>\n",
              "      <td>16512.000000</td>\n",
              "      <td>16512.000000</td>\n",
              "      <td>16512.000000</td>\n",
              "      <td>16512.000000</td>\n",
              "      <td>16512.000000</td>\n",
              "    </tr>\n",
              "    <tr>\n",
              "      <th>mean</th>\n",
              "      <td>-119.582290</td>\n",
              "      <td>35.643149</td>\n",
              "      <td>28.608285</td>\n",
              "      <td>2642.004784</td>\n",
              "      <td>538.496851</td>\n",
              "      <td>1426.453004</td>\n",
              "      <td>499.986919</td>\n",
              "      <td>3.880754</td>\n",
              "      <td>207194.693738</td>\n",
              "    </tr>\n",
              "    <tr>\n",
              "      <th>std</th>\n",
              "      <td>2.005654</td>\n",
              "      <td>2.136665</td>\n",
              "      <td>12.602499</td>\n",
              "      <td>2174.646744</td>\n",
              "      <td>419.007096</td>\n",
              "      <td>1137.056380</td>\n",
              "      <td>380.967964</td>\n",
              "      <td>1.904294</td>\n",
              "      <td>115622.626448</td>\n",
              "    </tr>\n",
              "    <tr>\n",
              "      <th>min</th>\n",
              "      <td>-124.350000</td>\n",
              "      <td>32.550000</td>\n",
              "      <td>1.000000</td>\n",
              "      <td>2.000000</td>\n",
              "      <td>1.000000</td>\n",
              "      <td>3.000000</td>\n",
              "      <td>1.000000</td>\n",
              "      <td>0.499900</td>\n",
              "      <td>14999.000000</td>\n",
              "    </tr>\n",
              "    <tr>\n",
              "      <th>25%</th>\n",
              "      <td>-121.810000</td>\n",
              "      <td>33.930000</td>\n",
              "      <td>18.000000</td>\n",
              "      <td>1454.000000</td>\n",
              "      <td>296.750000</td>\n",
              "      <td>789.000000</td>\n",
              "      <td>280.000000</td>\n",
              "      <td>2.566700</td>\n",
              "      <td>119800.000000</td>\n",
              "    </tr>\n",
              "    <tr>\n",
              "      <th>50%</th>\n",
              "      <td>-118.510000</td>\n",
              "      <td>34.260000</td>\n",
              "      <td>29.000000</td>\n",
              "      <td>2129.000000</td>\n",
              "      <td>437.000000</td>\n",
              "      <td>1167.000000</td>\n",
              "      <td>410.000000</td>\n",
              "      <td>3.545800</td>\n",
              "      <td>179850.000000</td>\n",
              "    </tr>\n",
              "    <tr>\n",
              "      <th>75%</th>\n",
              "      <td>-118.010000</td>\n",
              "      <td>37.720000</td>\n",
              "      <td>37.000000</td>\n",
              "      <td>3160.000000</td>\n",
              "      <td>647.000000</td>\n",
              "      <td>1726.000000</td>\n",
              "      <td>606.000000</td>\n",
              "      <td>4.773175</td>\n",
              "      <td>265125.000000</td>\n",
              "    </tr>\n",
              "    <tr>\n",
              "      <th>max</th>\n",
              "      <td>-114.310000</td>\n",
              "      <td>41.950000</td>\n",
              "      <td>52.000000</td>\n",
              "      <td>39320.000000</td>\n",
              "      <td>6445.000000</td>\n",
              "      <td>35682.000000</td>\n",
              "      <td>6082.000000</td>\n",
              "      <td>15.000100</td>\n",
              "      <td>500001.000000</td>\n",
              "    </tr>\n",
              "  </tbody>\n",
              "</table>\n",
              "</div>"
            ],
            "text/plain": [
              "          longitude      latitude  ...  median_income  median_house_value\n",
              "count  16512.000000  16512.000000  ...   16512.000000        16512.000000\n",
              "mean    -119.582290     35.643149  ...       3.880754       207194.693738\n",
              "std        2.005654      2.136665  ...       1.904294       115622.626448\n",
              "min     -124.350000     32.550000  ...       0.499900        14999.000000\n",
              "25%     -121.810000     33.930000  ...       2.566700       119800.000000\n",
              "50%     -118.510000     34.260000  ...       3.545800       179850.000000\n",
              "75%     -118.010000     37.720000  ...       4.773175       265125.000000\n",
              "max     -114.310000     41.950000  ...      15.000100       500001.000000\n",
              "\n",
              "[8 rows x 9 columns]"
            ]
          },
          "metadata": {
            "tags": []
          },
          "execution_count": 8
        }
      ]
    },
    {
      "cell_type": "markdown",
      "metadata": {
        "id": "cOU6IH8TcEY3"
      },
      "source": [
        "To verify our observations, let's visualize these features distributions: "
      ]
    },
    {
      "cell_type": "code",
      "metadata": {
        "id": "Mi9esPHFpkuu",
        "outputId": "024bdf82-6efb-44a4-f834-3efbc92aae90",
        "colab": {
          "base_uri": "https://localhost:8080/",
          "height": 1000
        }
      },
      "source": [
        "fig = plt.figure(figsize = (15,20))\n",
        "ax = fig.gca()\n",
        "train_df.hist(ax=ax)"
      ],
      "execution_count": null,
      "outputs": [
        {
          "output_type": "stream",
          "text": [
            "/usr/local/lib/python3.6/dist-packages/ipykernel_launcher.py:3: UserWarning: To output multiple subplots, the figure containing the passed axes is being cleared\n",
            "  This is separate from the ipykernel package so we can avoid doing imports until\n"
          ],
          "name": "stderr"
        },
        {
          "output_type": "execute_result",
          "data": {
            "text/plain": [
              "array([[<matplotlib.axes._subplots.AxesSubplot object at 0x7fb6a7148390>,\n",
              "        <matplotlib.axes._subplots.AxesSubplot object at 0x7fb6a7098b70>,\n",
              "        <matplotlib.axes._subplots.AxesSubplot object at 0x7fb6a717c7b8>],\n",
              "       [<matplotlib.axes._subplots.AxesSubplot object at 0x7fb6a7004470>,\n",
              "        <matplotlib.axes._subplots.AxesSubplot object at 0x7fb6a70386d8>,\n",
              "        <matplotlib.axes._subplots.AxesSubplot object at 0x7fb6a6fe9940>],\n",
              "       [<matplotlib.axes._subplots.AxesSubplot object at 0x7fb6a6f9dba8>,\n",
              "        <matplotlib.axes._subplots.AxesSubplot object at 0x7fb6a6f51dd8>,\n",
              "        <matplotlib.axes._subplots.AxesSubplot object at 0x7fb6a6f51e48>]],\n",
              "      dtype=object)"
            ]
          },
          "metadata": {
            "tags": []
          },
          "execution_count": 9
        },
        {
          "output_type": "display_data",
          "data": {
            "image/png": "[encoded data removed]",
            "text/plain": [
              "<Figure size 1080x1440 with 9 Axes>"
            ]
          },
          "metadata": {
            "tags": [],
            "needs_background": "light"
          }
        }
      ]
    },
    {
      "cell_type": "markdown",
      "metadata": {
        "id": "sXl4MJHoqw-U"
      },
      "source": [
        "The vizualizations confirmed our suspicions:\n",
        "- Each feature has its range which makes the learning later on quite slow, which mean that we need to rescale all features to accelerate learning.\n",
        "- All of total_rooms, total_bedroom, population and household features are highly skewed to one side, which mean that there are outliers that we need to take care of.\n",
        "-  The target feature distribution is similar to a gaussian distribution"
      ]
    },
    {
      "cell_type": "markdown",
      "metadata": {
        "id": "VGGEFwbitnUE"
      },
      "source": [
        "Next, let's investigate the relationship between the location and median house value. <br>\n",
        "Let's first plot the longtitude vs the latitude:"
      ]
    },
    {
      "cell_type": "code",
      "metadata": {
        "id": "IIS3t-A3t_SO",
        "outputId": "72975d78-5125-4a4a-d72d-02cf24276ba5",
        "colab": {
          "base_uri": "https://localhost:8080/",
          "height": 297
        }
      },
      "source": [
        "train_df.plot(kind='scatter',x=\"longitude\",y=\"latitude\",alpha=0.1)"
      ],
      "execution_count": null,
      "outputs": [
        {
          "output_type": "execute_result",
          "data": {
            "text/plain": [
              "<matplotlib.axes._subplots.AxesSubplot at 0x7fb6a6cb1400>"
            ]
          },
          "metadata": {
            "tags": []
          },
          "execution_count": 10
        },
        {
          "output_type": "display_data",
          "data": {
            "image/png": "[encoded data removed]",
            "text/plain": [
              "<Figure size 432x288 with 1 Axes>"
            ]
          },
          "metadata": {
            "tags": [],
            "needs_background": "light"
          }
        }
      ]
    },
    {
      "cell_type": "markdown",
      "metadata": {
        "id": "AeWfLknHuhPV"
      },
      "source": [
        "To make the map of california more informative for our task, let us add the median house value to the plot:"
      ]
    },
    {
      "cell_type": "code",
      "metadata": {
        "id": "uyM-x9wmvKKg",
        "outputId": "ab4b2111-5cd8-4f4d-d46d-84d88c8a234c",
        "colab": {
          "base_uri": "https://localhost:8080/",
          "height": 274
        }
      },
      "source": [
        "train_df.plot(kind='scatter',x=\"longitude\",y=\"latitude\",alpha=0.1,c=\"median_house_value\", cmap=plt.get_cmap(\"jet\"),colorbar=True) "
      ],
      "execution_count": null,
      "outputs": [
        {
          "output_type": "execute_result",
          "data": {
            "text/plain": [
              "<matplotlib.axes._subplots.AxesSubplot at 0x7fb6a67ac160>"
            ]
          },
          "metadata": {
            "tags": []
          },
          "execution_count": 11
        },
        {
          "output_type": "display_data",
          "data": {
            "image/png": "[encoded data removed]",
            "text/plain": [
              "<Figure size 432x288 with 2 Axes>"
            ]
          },
          "metadata": {
            "tags": [],
            "needs_background": "light"
          }
        }
      ]
    },
    {
      "cell_type": "markdown",
      "metadata": {
        "id": "xSmeq0MB3iEY"
      },
      "source": [
        "We notice that the closer the districts are the ocean, the higher the value of the median house value, which highlights the importance of the longtitude and latitude features.\n",
        "<br>\n",
        "\n",
        "Let's investigate now the categorical feature \"Ocean proximity\":\n",
        "\n"
      ]
    },
    {
      "cell_type": "code",
      "metadata": {
        "id": "vJ9O3Q264kI-",
        "outputId": "7fe6255b-9ccd-4232-b0fb-0a9cc187a73d",
        "colab": {
          "base_uri": "https://localhost:8080/",
          "height": 335
        }
      },
      "source": [
        "plt.hist(train_df[\"ocean_proximity\"])"
      ],
      "execution_count": null,
      "outputs": [
        {
          "output_type": "execute_result",
          "data": {
            "text/plain": [
              "(array([2.086e+03, 0.000e+00, 5.227e+03, 0.000e+00, 0.000e+00, 7.341e+03,\n",
              "        0.000e+00, 1.854e+03, 0.000e+00, 4.000e+00]),\n",
              " array([0. , 0.4, 0.8, 1.2, 1.6, 2. , 2.4, 2.8, 3.2, 3.6, 4. ]),\n",
              " <a list of 10 Patch objects>)"
            ]
          },
          "metadata": {
            "tags": []
          },
          "execution_count": 12
        },
        {
          "output_type": "display_data",
          "data": {
            "image/png": "[encoded data removed]",
            "text/plain": [
              "<Figure size 432x288 with 1 Axes>"
            ]
          },
          "metadata": {
            "tags": [],
            "needs_background": "light"
          }
        }
      ]
    },
    {
      "cell_type": "markdown",
      "metadata": {
        "id": "n_ppyiVY9sVB"
      },
      "source": [
        "We notice that there are 5 unique classes with the maximum class is <1H OCEAN and the minimum class is ISLAND.   "
      ]
    },
    {
      "cell_type": "markdown",
      "metadata": {
        "id": "Dpz0yPPJ-cys"
      },
      "source": [
        "Next, let's invetigate the correlations between the features:"
      ]
    },
    {
      "cell_type": "code",
      "metadata": {
        "id": "7rir9COF-jks",
        "outputId": "c3a128d2-163d-41e7-91a0-5ce5fbed1d26",
        "colab": {
          "base_uri": "https://localhost:8080/",
          "height": 650
        }
      },
      "source": [
        "corr=train_df.corr()\n",
        "f, ax = plt.subplots(figsize=(11, 9))\n",
        "cmap = sns.diverging_palette(230, 20, as_cmap=True)\n",
        "mask = np.triu(np.ones_like(corr, dtype=bool))\n",
        "sns.heatmap(corr, mask=mask, cmap=cmap, vmax=.3, center=0,\n",
        "            square=True, linewidths=.5, cbar_kws={\"shrink\": .5})"
      ],
      "execution_count": null,
      "outputs": [
        {
          "output_type": "execute_result",
          "data": {
            "text/plain": [
              "<matplotlib.axes._subplots.AxesSubplot at 0x7fb6a4e42780>"
            ]
          },
          "metadata": {
            "tags": []
          },
          "execution_count": 13
        },
        {
          "output_type": "display_data",
          "data": {
            "image/png": "[encoded data removed]",
            "text/plain": [
              "<Figure size 792x648 with 2 Axes>"
            ]
          },
          "metadata": {
            "tags": [],
            "needs_background": "light"
          }
        }
      ]
    },
    {
      "cell_type": "markdown",
      "metadata": {
        "id": "_Q2ePfKUDnTK"
      },
      "source": [
        "We notice that:\n",
        "- there is a strong correlation between the target feature and the spatial location (longitude and latitude), confirming our previous observations.\n",
        "- there is also a strong correlation between the target feature and median income\n",
        "- note that there is a strong correlation between households and total_rooms, population and households, and total_rooms and nb_of_bedrooms. We might use these correlations to craft new features later on."
      ]
    },
    {
      "cell_type": "markdown",
      "metadata": {
        "id": "3Xr8HVjVSN7_"
      },
      "source": [
        "Let's find the correlation between these newly crafted features and the target value:"
      ]
    },
    {
      "cell_type": "code",
      "metadata": {
        "id": "c0_Kdm4-SygZ"
      },
      "source": [
        "train_df[\"rooms_per_household\"]=train_df[\"total_rooms\"]/train_df[\"households\"]\n",
        "train_df[\"bedrooms_per_total\"]=train_df[\"total_bedrooms\"]/train_df[\"total_rooms\"]\n",
        "train_df[\"households_per_population\"]=train_df[\"households\"]/train_df[\"population\"]"
      ],
      "execution_count": null,
      "outputs": []
    },
    {
      "cell_type": "code",
      "metadata": {
        "id": "g_fct2Tfji-L",
        "outputId": "5c2aee09-6e0e-429e-cbdd-d5f7841e0e72",
        "colab": {
          "base_uri": "https://localhost:8080/",
          "height": 246
        }
      },
      "source": [
        "corr=train_df.corr()\n",
        "corr[\"median_house_value\"].sort_values()"
      ],
      "execution_count": null,
      "outputs": [
        {
          "output_type": "execute_result",
          "data": {
            "text/plain": [
              "bedrooms_per_total          -0.257419\n",
              "latitude                    -0.142983\n",
              "longitude                   -0.046349\n",
              "population                  -0.026032\n",
              "total_bedrooms               0.047980\n",
              "households                   0.063714\n",
              "housing_median_age           0.103706\n",
              "total_rooms                  0.133989\n",
              "rooms_per_household          0.158485\n",
              "households_per_population    0.263072\n",
              "median_income                0.690647\n",
              "median_house_value           1.000000\n",
              "Name: median_house_value, dtype: float64"
            ]
          },
          "metadata": {
            "tags": []
          },
          "execution_count": 15
        }
      ]
    },
    {
      "cell_type": "markdown",
      "metadata": {
        "id": "TaUcEnBotRtT"
      },
      "source": [
        "Neat! We notice that bedrooms_per_total, rooms_per_household, and households_per_population have higher correlation with the target attribute than the original features. This means that these features would be a great addition to our training features.\n",
        "<br>\n",
        "Let's remove them for the moment from the training features:"
      ]
    },
    {
      "cell_type": "code",
      "metadata": {
        "id": "BazySHrSh2c6"
      },
      "source": [
        "train_df=train_df.drop([\"rooms_per_household\",\"bedrooms_per_total\",\"households_per_population\"],axis=1)"
      ],
      "execution_count": null,
      "outputs": []
    },
    {
      "cell_type": "markdown",
      "metadata": {
        "id": "msHp1KoAh3er"
      },
      "source": [
        "## **3. Prepare the Data**\n",
        "\n",
        "After analyzing the data, let's recap the steps we need to do:\n",
        "- Fill the missing values in the total_bedrooms feature\n",
        "- Encode the Ocean Proximity feature into an integer value\n",
        "- Standardize all the numerical features "
      ]
    },
    {
      "cell_type": "code",
      "metadata": {
        "id": "x8CyEH0xRcre"
      },
      "source": [
        "y_train_df=train_df[\"median_house_value\"].copy()\n",
        "x_train_df=train_df.drop(\"median_house_value\",axis=1)"
      ],
      "execution_count": null,
      "outputs": []
    },
    {
      "cell_type": "markdown",
      "metadata": {
        "id": "HR-4p0-S85tn"
      },
      "source": [
        "### Dealing with Missing Values"
      ]
    },
    {
      "cell_type": "code",
      "metadata": {
        "id": "9BgCXJ9NtQCa",
        "outputId": "705f84b6-8826-4326-ee9e-7494f1039ba8",
        "colab": {
          "base_uri": "https://localhost:8080/",
          "height": 52
        }
      },
      "source": [
        "from sklearn.impute import SimpleImputer\n",
        "impute=SimpleImputer(strategy=\"median\")\n",
        "train_df_num=x_train_df.drop(\"ocean_proximity\",axis=1)\n",
        "impute.fit(train_df_num)"
      ],
      "execution_count": null,
      "outputs": [
        {
          "output_type": "execute_result",
          "data": {
            "text/plain": [
              "SimpleImputer(add_indicator=False, copy=True, fill_value=None,\n",
              "              missing_values=nan, strategy='median', verbose=0)"
            ]
          },
          "metadata": {
            "tags": []
          },
          "execution_count": 139
        }
      ]
    },
    {
      "cell_type": "markdown",
      "metadata": {
        "id": "mG-QZ8Yq-Sb4"
      },
      "source": [
        "Let's make sure the imputer has really fitted the data:"
      ]
    },
    {
      "cell_type": "code",
      "metadata": {
        "id": "jfUAfFnA-Plw",
        "outputId": "4bbdd5d4-fbec-4f11-9e81-17a3881e170a",
        "colab": {
          "base_uri": "https://localhost:8080/",
          "height": 52
        }
      },
      "source": [
        "impute.statistics_"
      ],
      "execution_count": null,
      "outputs": [
        {
          "output_type": "execute_result",
          "data": {
            "text/plain": [
              "array([-118.51  ,   34.26  ,   29.    , 2129.    ,  437.    , 1167.    ,\n",
              "        410.    ,    3.5458])"
            ]
          },
          "metadata": {
            "tags": []
          },
          "execution_count": 140
        }
      ]
    },
    {
      "cell_type": "code",
      "metadata": {
        "id": "DCP-ovZl-DJD",
        "outputId": "1c82e42c-bb7b-4d34-b713-970d89a1fb3e",
        "colab": {
          "base_uri": "https://localhost:8080/",
          "height": 175
        }
      },
      "source": [
        "train_df_num.median()"
      ],
      "execution_count": null,
      "outputs": [
        {
          "output_type": "execute_result",
          "data": {
            "text/plain": [
              "longitude             -118.5100\n",
              "latitude                34.2600\n",
              "housing_median_age      29.0000\n",
              "total_rooms           2129.0000\n",
              "total_bedrooms         437.0000\n",
              "population            1167.0000\n",
              "households             410.0000\n",
              "median_income            3.5458\n",
              "dtype: float64"
            ]
          },
          "metadata": {
            "tags": []
          },
          "execution_count": 141
        }
      ]
    },
    {
      "cell_type": "markdown",
      "metadata": {
        "id": "E8Spy1t1-vCE"
      },
      "source": [
        "Both median values match! Let's fill the missing values now:"
      ]
    },
    {
      "cell_type": "code",
      "metadata": {
        "id": "b26FhL0eC0El",
        "outputId": "71509dc3-b9a4-4a7f-9173-dc4568f10e6c",
        "colab": {
          "base_uri": "https://localhost:8080/",
          "height": 246
        }
      },
      "source": [
        "impute.transform(train_df_num)"
      ],
      "execution_count": null,
      "outputs": [
        {
          "output_type": "execute_result",
          "data": {
            "text/plain": [
              "array([[-1.1703e+02,  3.2710e+01,  3.3000e+01, ...,  2.3000e+03,\n",
              "         6.2300e+02,  3.2596e+00],\n",
              "       [-1.1816e+02,  3.3770e+01,  4.9000e+01, ...,  1.3140e+03,\n",
              "         7.5600e+02,  3.8125e+00],\n",
              "       [-1.2048e+02,  3.4660e+01,  4.0000e+00, ...,  9.1500e+02,\n",
              "         3.3600e+02,  4.1563e+00],\n",
              "       ...,\n",
              "       [-1.1838e+02,  3.4030e+01,  3.6000e+01, ...,  1.7560e+03,\n",
              "         5.2700e+02,  2.9344e+00],\n",
              "       [-1.2196e+02,  3.7580e+01,  1.5000e+01, ...,  1.7770e+03,\n",
              "         5.5900e+02,  5.7192e+00],\n",
              "       [-1.2242e+02,  3.7770e+01,  5.2000e+01, ...,  2.6190e+03,\n",
              "         1.2420e+03,  2.5755e+00]])"
            ]
          },
          "metadata": {
            "tags": []
          },
          "execution_count": 142
        }
      ]
    },
    {
      "cell_type": "code",
      "metadata": {
        "id": "XGli1DzNDfvj",
        "outputId": "db770e73-32db-47c8-c699-a52b2e5478a2",
        "colab": {
          "base_uri": "https://localhost:8080/",
          "height": 175
        }
      },
      "source": [
        "train_df_num.isna().sum()"
      ],
      "execution_count": null,
      "outputs": [
        {
          "output_type": "execute_result",
          "data": {
            "text/plain": [
              "longitude             0\n",
              "latitude              0\n",
              "housing_median_age    0\n",
              "total_rooms           0\n",
              "total_bedrooms        0\n",
              "population            0\n",
              "households            0\n",
              "median_income         0\n",
              "dtype: int64"
            ]
          },
          "metadata": {
            "tags": []
          },
          "execution_count": 143
        }
      ]
    },
    {
      "cell_type": "markdown",
      "metadata": {
        "id": "GjkkZLpdDnNG"
      },
      "source": [
        "Great, we made sure all missing values are filled. <br>\n",
        "### Dealing with Categorical values\n",
        "Next, let's transform the \"Ocean proximit\" feature into a numerical feature:"
      ]
    },
    {
      "cell_type": "code",
      "metadata": {
        "id": "nqkhBB_3IiIj"
      },
      "source": [
        "train_cat_df=train_df[\"ocean_proximity\"].copy()"
      ],
      "execution_count": null,
      "outputs": []
    },
    {
      "cell_type": "code",
      "metadata": {
        "id": "EzRNUjkkDwc-",
        "outputId": "7e1c78fe-863c-4f7b-ca36-36c9477e1c4b",
        "colab": {
          "base_uri": "https://localhost:8080/",
          "height": 52
        }
      },
      "source": [
        "from sklearn.preprocessing import OneHotEncoder\n",
        "ohe=OneHotEncoder(sparse=False)\n",
        "ohe.fit(train_cat_df.values.reshape(-1,1))"
      ],
      "execution_count": null,
      "outputs": [
        {
          "output_type": "execute_result",
          "data": {
            "text/plain": [
              "OneHotEncoder(categories='auto', drop=None, dtype=<class 'numpy.float64'>,\n",
              "              handle_unknown='error', sparse=False)"
            ]
          },
          "metadata": {
            "tags": []
          },
          "execution_count": 43
        }
      ]
    },
    {
      "cell_type": "code",
      "metadata": {
        "id": "LQ6QYKNnHd7C",
        "outputId": "91141b1b-d3fc-4b24-98aa-dc2e393b1ad1",
        "colab": {
          "base_uri": "https://localhost:8080/",
          "height": 140
        }
      },
      "source": [
        "train_cat_ohe=ohe.transform(train_cat_df.values.reshape(-1,1))\n",
        "train_cat_ohe"
      ],
      "execution_count": null,
      "outputs": [
        {
          "output_type": "execute_result",
          "data": {
            "text/plain": [
              "array([[0., 0., 0., 0., 1.],\n",
              "       [0., 0., 0., 0., 1.],\n",
              "       [0., 0., 0., 0., 1.],\n",
              "       ...,\n",
              "       [1., 0., 0., 0., 0.],\n",
              "       [1., 0., 0., 0., 0.],\n",
              "       [0., 0., 0., 1., 0.]])"
            ]
          },
          "metadata": {
            "tags": []
          },
          "execution_count": 49
        }
      ]
    },
    {
      "cell_type": "markdown",
      "metadata": {
        "id": "yJ2K2ophKIQR"
      },
      "source": [
        "### Scaling features\n",
        "As we discusssed before, let's standardize all numerical features:"
      ]
    },
    {
      "cell_type": "code",
      "metadata": {
        "id": "SThKB1MfJ8xB"
      },
      "source": [
        "from sklearn.preprocessing import StandardScaler\n",
        "std_scaler=StandardScaler()\n",
        "train_df_num_scaled=std_scaler.fit_transform(train_df_num)"
      ],
      "execution_count": null,
      "outputs": []
    },
    {
      "cell_type": "markdown",
      "metadata": {
        "id": "-VbRNvqvNvNx"
      },
      "source": [
        "### Creating the Pipeline"
      ]
    },
    {
      "cell_type": "markdown",
      "metadata": {
        "id": "vYg51VwWNpOG"
      },
      "source": [
        "Now that we did all the previous tasks, let's prepare the pipeline for our model:"
      ]
    },
    {
      "cell_type": "code",
      "metadata": {
        "id": "_GOlfJivN4mO"
      },
      "source": [
        "from sklearn.base import BaseEstimator, TransformerMixin\n",
        "rooms_ix, bedrooms_ix, population_ix, households_ix = 3, 4, 5, 6\n",
        "\n",
        "class CombinedAttributesAdder(BaseEstimator, TransformerMixin):\n",
        "  def __init__(self): \n",
        "    pass\n",
        "  def fit(self, X, y=None):\n",
        "    return self # nothing else to do\n",
        "  \n",
        "  def transform(self, X, y=None):\n",
        "    rooms_per_household = X[:, rooms_ix] / X[:, households_ix]\n",
        "    population_per_household = X[:, population_ix] / X[:, households_ix]\n",
        "    bedrooms_per_room = X[:, bedrooms_ix] / X[:, rooms_ix]\n",
        "    return np.c_[X, rooms_per_household, population_per_household,bedrooms_per_room]\n",
        "\n",
        "attrib_adder = CombinedAttributesAdder()\n",
        "train_extra_attribs = attrib_adder.transform(x_train_df.values)"
      ],
      "execution_count": null,
      "outputs": []
    },
    {
      "cell_type": "code",
      "metadata": {
        "id": "dek3R60YP0UN"
      },
      "source": [
        "from sklearn.pipeline import Pipeline\n",
        "num_pipeline=Pipeline([(\"imputer\",SimpleImputer(strategy=\"median\")),\n",
        "                        (\"extra_attribs\",CombinedAttributesAdder()),\n",
        "                      (\"std_scaler\",StandardScaler()),\n",
        "                      ])"
      ],
      "execution_count": null,
      "outputs": []
    },
    {
      "cell_type": "code",
      "metadata": {
        "id": "GUXrgxE6Qhas"
      },
      "source": [
        "from sklearn.compose import ColumnTransformer\n",
        "num_attributes=train_df_num.columns\n",
        "cat_attributes=[\"ocean_proximity\"]\n",
        "\n",
        "full_pipeline=ColumnTransformer([\n",
        "                                 (\"num\",num_pipeline,num_attributes),\n",
        "                                 (\"cat\",OneHotEncoder(),cat_attributes),\n",
        "                              ])"
      ],
      "execution_count": null,
      "outputs": []
    },
    {
      "cell_type": "markdown",
      "metadata": {
        "id": "xptD0VClUHkU"
      },
      "source": [
        "Now, we can preprocess the original dataset:"
      ]
    },
    {
      "cell_type": "code",
      "metadata": {
        "id": "badKdzaJUG4F"
      },
      "source": [
        "x_train_prepared=full_pipeline.fit_transform(x_train_df)\n",
        "y_train=y_train_df.values"
      ],
      "execution_count": null,
      "outputs": []
    },
    {
      "cell_type": "markdown",
      "metadata": {
        "id": "oIdmjw8AU67T"
      },
      "source": [
        "## **5. Short-List Promising Models**\n",
        "Now that we have prepared our data, it is time to train the machine learning models!\n"
      ]
    },
    {
      "cell_type": "code",
      "metadata": {
        "id": "RbEJKlNkV0cM",
        "outputId": "9e56663a-edc4-4286-84a1-8957e1a88ce2",
        "colab": {
          "base_uri": "https://localhost:8080/",
          "height": 34
        }
      },
      "source": [
        "from sklearn.linear_model import LinearRegression\n",
        "lin_model=LinearRegression()\n",
        "lin_model.fit(x_train_prepared,y_train)"
      ],
      "execution_count": null,
      "outputs": [
        {
          "output_type": "execute_result",
          "data": {
            "text/plain": [
              "LinearRegression(copy_X=True, fit_intercept=True, n_jobs=None, normalize=False)"
            ]
          },
          "metadata": {
            "tags": []
          },
          "execution_count": 99
        }
      ]
    },
    {
      "cell_type": "markdown",
      "metadata": {
        "id": "36Sxo-Q6XDd9"
      },
      "source": [
        "Let's evaluate some of the predictions:"
      ]
    },
    {
      "cell_type": "code",
      "metadata": {
        "id": "5x-Sw0lkXCza",
        "outputId": "0c669c4f-227b-4d36-e602-67a402dbb766",
        "colab": {
          "base_uri": "https://localhost:8080/",
          "height": 34
        }
      },
      "source": [
        "labels=y_train[:5]\n",
        "sampled=x_train_prepared[:5,:]\n",
        "print(\"Labels:\",labels)"
      ],
      "execution_count": null,
      "outputs": [
        {
          "output_type": "stream",
          "text": [
            "Labels: [103000. 382100. 172600.  93400.  96500.]\n"
          ],
          "name": "stdout"
        }
      ]
    },
    {
      "cell_type": "code",
      "metadata": {
        "id": "koXfEqlPXiyQ",
        "outputId": "c5e0d29f-327d-4135-f1ad-fef3e690e9ce",
        "colab": {
          "base_uri": "https://localhost:8080/",
          "height": 52
        }
      },
      "source": [
        "pred_labels=lin_model.predict(sampled)\n",
        "print(\"Predicted labels:\",pred_labels)"
      ],
      "execution_count": null,
      "outputs": [
        {
          "output_type": "stream",
          "text": [
            "Predicted labels: [173570.37219125 312853.84913207 245175.83390789 126077.83127241\n",
            " 177364.78444094]\n"
          ],
          "name": "stdout"
        }
      ]
    },
    {
      "cell_type": "markdown",
      "metadata": {
        "id": "UphpYzqVX7_P"
      },
      "source": [
        "Not bad at all! However the predictedvalues are not very close to the actual values. We need some kind of performance metric to measure how close we are to the actual values.<br>\n",
        "One useful metric in regression is the Root Mean Square Error (RMSE):"
      ]
    },
    {
      "cell_type": "code",
      "metadata": {
        "id": "Jsc_Q7bpYa5z",
        "outputId": "664a6b74-a11b-49e0-fb6c-b8b79511a477",
        "colab": {
          "base_uri": "https://localhost:8080/",
          "height": 34
        }
      },
      "source": [
        "from sklearn.metrics import mean_squared_error\n",
        "pred_labels=lin_model.predict(x_train_prepared)\n",
        "mse=mean_squared_error(y_train,pred_labels)\n",
        "print(\"RMSE:\",np.sqrt(mse))"
      ],
      "execution_count": null,
      "outputs": [
        {
          "output_type": "stream",
          "text": [
            "RMSE: 65122.60742387979\n"
          ],
          "name": "stdout"
        }
      ]
    },
    {
      "cell_type": "markdown",
      "metadata": {
        "id": "q5vtx__BZHH2"
      },
      "source": [
        "Okay this score is not that good! With this simple model, we can infer that the model is underfitting. Let's try a more powerful model like Decision Trees:"
      ]
    },
    {
      "cell_type": "code",
      "metadata": {
        "id": "jFcyWxuiZj6E",
        "outputId": "1fab97ec-3912-472e-90b6-34ce2c29109d",
        "colab": {
          "base_uri": "https://localhost:8080/",
          "height": 122
        }
      },
      "source": [
        "from sklearn.tree import DecisionTreeRegressor\n",
        "dtr_model=DecisionTreeRegressor()\n",
        "dtr_model.fit(x_train_prepared,y_train)"
      ],
      "execution_count": null,
      "outputs": [
        {
          "output_type": "execute_result",
          "data": {
            "text/plain": [
              "DecisionTreeRegressor(ccp_alpha=0.0, criterion='mse', max_depth=None,\n",
              "                      max_features=None, max_leaf_nodes=None,\n",
              "                      min_impurity_decrease=0.0, min_impurity_split=None,\n",
              "                      min_samples_leaf=1, min_samples_split=2,\n",
              "                      min_weight_fraction_leaf=0.0, presort='deprecated',\n",
              "                      random_state=None, splitter='best')"
            ]
          },
          "metadata": {
            "tags": []
          },
          "execution_count": 105
        }
      ]
    },
    {
      "cell_type": "code",
      "metadata": {
        "id": "O1MuN3JLZ5UW",
        "outputId": "68e984c5-4d15-45db-9238-9a2d73180884",
        "colab": {
          "base_uri": "https://localhost:8080/",
          "height": 34
        }
      },
      "source": [
        "from sklearn.metrics import mean_squared_error\n",
        "pred_labels=dtr_model.predict(x_train_prepared)\n",
        "mse=mean_squared_error(y_train,pred_labels)\n",
        "print(\"RMSE:\",np.sqrt(mse))"
      ],
      "execution_count": null,
      "outputs": [
        {
          "output_type": "stream",
          "text": [
            "RMSE: 0.0\n"
          ],
          "name": "stdout"
        }
      ]
    },
    {
      "cell_type": "markdown",
      "metadata": {
        "id": "1n6ah71raUGm"
      },
      "source": [
        "Clearly there is a problem, is this model perfect? Let's us double check with a more robust evaluation technique: cross validation"
      ]
    },
    {
      "cell_type": "code",
      "metadata": {
        "id": "jyJxhjunamIV"
      },
      "source": [
        "from sklearn.model_selection import cross_val_score\n",
        "scores=cross_val_score(dtr_model,x_train_prepared,y_train,cv=5,scoring=\"neg_mean_squared_error\")\n",
        "scores=np.sqrt(-scores)"
      ],
      "execution_count": null,
      "outputs": []
    },
    {
      "cell_type": "code",
      "metadata": {
        "id": "Hs3UsnkUbNGF",
        "outputId": "ef1f0040-b34e-4fb8-94d2-109a27bb88cc",
        "colab": {
          "base_uri": "https://localhost:8080/",
          "height": 52
        }
      },
      "source": [
        "print(\"mean rmse:\",np.mean(scores))\n",
        "print(\"std:\",np.std(scores))"
      ],
      "execution_count": null,
      "outputs": [
        {
          "output_type": "stream",
          "text": [
            "mean rmse: 71711.40468708196\n",
            "std: 360.58058123865163\n"
          ],
          "name": "stdout"
        }
      ]
    },
    {
      "cell_type": "markdown",
      "metadata": {
        "id": "uBLIW3PebgSj"
      },
      "source": [
        "Now we know that this model is a bit worse than the linear model, there is a possibility that the model is overfitting the data. Let's us now a better model like Random Forests. Usually such models called Ensemble models perform better than simpler models:"
      ]
    },
    {
      "cell_type": "code",
      "metadata": {
        "id": "9NygbQf-b0nh"
      },
      "source": [
        "from sklearn.ensemble import RandomForestRegressor\n",
        "rand_model=RandomForestRegressor()"
      ],
      "execution_count": null,
      "outputs": []
    },
    {
      "cell_type": "code",
      "metadata": {
        "id": "iSwy4bjAb3r6"
      },
      "source": [
        "from sklearn.model_selection import cross_val_score\n",
        "scores=cross_val_score(rand_model,x_train_prepared,y_train,cv=5,scoring=\"neg_mean_squared_error\")\n",
        "scores=np.sqrt(-scores)"
      ],
      "execution_count": null,
      "outputs": []
    },
    {
      "cell_type": "code",
      "metadata": {
        "id": "l-WQx8w1b63V",
        "outputId": "efd5108b-f8ad-4d7d-a40f-351d0ae8a702",
        "colab": {
          "base_uri": "https://localhost:8080/",
          "height": 52
        }
      },
      "source": [
        "print(\"mean rmse:\",np.mean(scores))\n",
        "print(\"std:\",np.std(scores))"
      ],
      "execution_count": null,
      "outputs": [
        {
          "output_type": "stream",
          "text": [
            "mean rmse: 50447.002014296806\n",
            "std: 702.8995519311321\n"
          ],
          "name": "stdout"
        }
      ]
    },
    {
      "cell_type": "markdown",
      "metadata": {
        "id": "MJSzO0NHdszk"
      },
      "source": [
        "Wow! The model has improved drastically!"
      ]
    },
    {
      "cell_type": "markdown",
      "metadata": {
        "id": "m7C-D0_WfSf4"
      },
      "source": [
        "## **6. Fine Tune the System and Test**"
      ]
    },
    {
      "cell_type": "markdown",
      "metadata": {
        "id": "QDXQaIwnfHKa"
      },
      "source": [
        "Usually after this step follows the hyperparameters tuning stage, where we try tuning our model hyperparameters to achieve higher results.\n",
        "For more information, check the [GridSearch](https://scikit-learn.org/stable/modules/grid_search.html) approach in Scikit Learn."
      ]
    },
    {
      "cell_type": "code",
      "metadata": {
        "id": "veeJ34p5jqG3",
        "outputId": "455db1ae-e93f-4c8a-9e6e-2a345472c985",
        "colab": {
          "base_uri": "https://localhost:8080/",
          "height": 386
        }
      },
      "source": [
        "from sklearn.model_selection import GridSearchCV\n",
        "param_grid = [\n",
        " {'n_estimators': [3, 10, 30], 'max_features': [2, 4, 6, 8]},\n",
        " {'bootstrap': [False], 'n_estimators': [3, 10], 'max_features': [2, 3, 4]},\n",
        " ]\n",
        "forest_reg = RandomForestRegressor()\n",
        "grid_search = GridSearchCV(forest_reg, param_grid, cv=5,\n",
        " scoring='neg_mean_squared_error',\n",
        "return_train_score=True)\n",
        "grid_search.fit(x_train_prepared,y_train)"
      ],
      "execution_count": null,
      "outputs": [
        {
          "output_type": "execute_result",
          "data": {
            "text/plain": [
              "GridSearchCV(cv=5, error_score=nan,\n",
              "             estimator=RandomForestRegressor(bootstrap=True, ccp_alpha=0.0,\n",
              "                                             criterion='mse', max_depth=None,\n",
              "                                             max_features='auto',\n",
              "                                             max_leaf_nodes=None,\n",
              "                                             max_samples=None,\n",
              "                                             min_impurity_decrease=0.0,\n",
              "                                             min_impurity_split=None,\n",
              "                                             min_samples_leaf=1,\n",
              "                                             min_samples_split=2,\n",
              "                                             min_weight_fraction_leaf=0.0,\n",
              "                                             n_estimators=100, n_jobs=None,\n",
              "                                             oob_score=False, random_state=None,\n",
              "                                             verbose=0, warm_start=False),\n",
              "             iid='deprecated', n_jobs=None,\n",
              "             param_grid=[{'max_features': [2, 4, 6, 8],\n",
              "                          'n_estimators': [3, 10, 30]},\n",
              "                         {'bootstrap': [False], 'max_features': [2, 3, 4],\n",
              "                          'n_estimators': [3, 10]}],\n",
              "             pre_dispatch='2*n_jobs', refit=True, return_train_score=True,\n",
              "             scoring='neg_mean_squared_error', verbose=0)"
            ]
          },
          "metadata": {
            "tags": []
          },
          "execution_count": 152
        }
      ]
    },
    {
      "cell_type": "code",
      "metadata": {
        "id": "WaDXLbtKkZaW",
        "outputId": "e90bc333-4c69-483c-b86c-b25837c046ae",
        "colab": {
          "base_uri": "https://localhost:8080/",
          "height": 334
        }
      },
      "source": [
        "cvres = grid_search.cv_results_\n",
        "for mean_score, params in zip(cvres[\"mean_test_score\"], cvres[\"params\"]):\n",
        "  print(np.sqrt(-mean_score), params)"
      ],
      "execution_count": null,
      "outputs": [
        {
          "output_type": "stream",
          "text": [
            "63918.901644252466 {'max_features': 2, 'n_estimators': 3}\n",
            "54908.8842296428 {'max_features': 2, 'n_estimators': 10}\n",
            "52380.94986533491 {'max_features': 2, 'n_estimators': 30}\n",
            "60287.37626457158 {'max_features': 4, 'n_estimators': 3}\n",
            "52222.680521939415 {'max_features': 4, 'n_estimators': 10}\n",
            "50314.48078341828 {'max_features': 4, 'n_estimators': 30}\n",
            "59228.84272516006 {'max_features': 6, 'n_estimators': 3}\n",
            "52552.10695459695 {'max_features': 6, 'n_estimators': 10}\n",
            "49858.80958316217 {'max_features': 6, 'n_estimators': 30}\n",
            "58300.88145292794 {'max_features': 8, 'n_estimators': 3}\n",
            "52146.59552365994 {'max_features': 8, 'n_estimators': 10}\n",
            "50197.55307102659 {'max_features': 8, 'n_estimators': 30}\n",
            "61683.92880007305 {'bootstrap': False, 'max_features': 2, 'n_estimators': 3}\n",
            "53989.66851768767 {'bootstrap': False, 'max_features': 2, 'n_estimators': 10}\n",
            "59283.17037625248 {'bootstrap': False, 'max_features': 3, 'n_estimators': 3}\n",
            "51721.05592777798 {'bootstrap': False, 'max_features': 3, 'n_estimators': 10}\n",
            "59026.41380668774 {'bootstrap': False, 'max_features': 4, 'n_estimators': 3}\n",
            "51711.711215478106 {'bootstrap': False, 'max_features': 4, 'n_estimators': 10}\n"
          ],
          "name": "stdout"
        }
      ]
    },
    {
      "cell_type": "code",
      "metadata": {
        "id": "7fos2qMOkG_a",
        "outputId": "2053a5aa-065b-4a01-9e72-a599b3085e38",
        "colab": {
          "base_uri": "https://localhost:8080/",
          "height": 34
        }
      },
      "source": [
        "grid_search.best_params_"
      ],
      "execution_count": null,
      "outputs": [
        {
          "output_type": "execute_result",
          "data": {
            "text/plain": [
              "{'max_features': 6, 'n_estimators': 30}"
            ]
          },
          "metadata": {
            "tags": []
          },
          "execution_count": 153
        }
      ]
    },
    {
      "cell_type": "markdown",
      "metadata": {
        "id": "fQK2j6n8flpj"
      },
      "source": [
        "Now it is time to test our model! We have seen previously that Random Forests perform the best in comparison to the previous models, so we will use it for our test data evaluation. "
      ]
    },
    {
      "cell_type": "code",
      "metadata": {
        "id": "HnVaJpv2fKMj"
      },
      "source": [
        "final_model=grid_search.best_estimator_\n",
        "\n",
        "X_test = test_df.drop(\"median_house_value\", axis=1)\n",
        "y_test = test_df[\"median_house_value\"].copy()\n",
        "X_test_prepared = full_pipeline.fit_transform(X_test)\n",
        "final_predictions = final_model.predict(X_test_prepared)\n",
        "final_mse = mean_squared_error(y_test, final_predictions)\n",
        "final_rmse = np.sqrt(final_mse) "
      ],
      "execution_count": null,
      "outputs": []
    },
    {
      "cell_type": "code",
      "metadata": {
        "id": "PJe3FK7YjTNV",
        "outputId": "546a60b7-e162-410d-f122-2e4015dca863",
        "colab": {
          "base_uri": "https://localhost:8080/",
          "height": 34
        }
      },
      "source": [
        "print(\"final rmse:\",final_rmse)"
      ],
      "execution_count": null,
      "outputs": [
        {
          "output_type": "stream",
          "text": [
            "final rmse: 67471.61003282058\n"
          ],
          "name": "stdout"
        }
      ]
    }
  ]
}